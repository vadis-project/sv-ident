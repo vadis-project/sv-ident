{
 "cells": [
  {
   "cell_type": "code",
   "execution_count": null,
   "source": [
    "import nltk\n",
    "from nltk.corpus import stopwords\n",
    "from nltk.stem import WordNetLemmatizer\n",
    "import numpy as np\n",
    "import pandas as pd\n",
    "import re\n",
    "import statistics\n",
    "from collections import defaultdict\n",
    "import datasets\n",
    "from sklearn.feature_extraction.text import CountVectorizer\n",
    "from sklearn.feature_extraction.text import TfidfVectorizer\n",
    "from sklearn.linear_model import LogisticRegression\n",
    "from sklearn.metrics import accuracy_score, f1_score, precision_score, recall_score\n",
    "from sklearn.model_selection import KFold\n",
    "from tqdm.notebook import tqdm"
   ],
   "outputs": [],
   "metadata": {}
  },
  {
   "cell_type": "code",
   "execution_count": null,
   "source": [
    "nltk.download('stopwords')\n",
    "nltk.download('wordnet')\n",
    "nltk.download('omw-1.4')"
   ],
   "outputs": [],
   "metadata": {}
  },
  {
   "cell_type": "code",
   "execution_count": null,
   "source": [
    "# === Set your hyperparameters here ===\n",
    "\n",
    "# Choose the dataset to use from [\"en\", \"de\"]\n",
    "lang = \"en\"\n",
    "assert lang in [\"en\", \"de\"]\n",
    "\n",
    "# Directory where data is stored\n",
    "data_dir = \"../../data/\"\n",
    "assert os.path.exists(data_dir)\n",
    "\n",
    "# Metric averging\n",
    "average = \"macro\"\n",
    "\n",
    "# Cross-validation n splits\n",
    "n_splits = 10\n",
    "\n",
    "# ================ End ================"
   ],
   "outputs": [],
   "metadata": {}
  },
  {
   "cell_type": "markdown",
   "source": [
    "Load raw data"
   ],
   "metadata": {}
  },
  {
   "cell_type": "code",
   "execution_count": null,
   "source": [
    "\n",
    "train_data_path = f'../../data/trial/train/{lang}.tsv'\n",
    "test_data_path = f'../../data/trial/test/{lang}.tsv'\n",
    "\n",
    "train_df = pd.read_csv(train_data_path, sep ='\\t')\n",
    "test_df = pd.read_csv(test_data_path, sep ='\\t')\n"
   ],
   "outputs": [],
   "metadata": {}
  },
  {
   "cell_type": "code",
   "execution_count": null,
   "source": [
    "def text_preprocess(ds: pd.Series) -> pd.Series:\n",
    "\n",
    "    for m in range(len(ds)):\n",
    "        \n",
    "        main_words = re.sub('[^a-zA-Z]', ' ', str(ds[m]))                                      # Retain only alphabets\n",
    "        main_words = (main_words.lower()).split()\n",
    "        main_words = [w for w in main_words if not w in set(stopwords.words('english'))]  # Remove stopwords\n",
    "        \n",
    "        lem = WordNetLemmatizer()\n",
    "        main_words = [lem.lemmatize(w) for w in main_words if len(w) > 1]                 # Group different forms of the same word\n",
    "        \n",
    "        main_words = ' '.join(main_words)\n",
    "        ds[m] = main_words\n",
    "\n",
    "    return ds"
   ],
   "outputs": [],
   "metadata": {}
  },
  {
   "cell_type": "code",
   "execution_count": null,
   "source": [
    "train_df['text'] = text_preprocess(train_df['text'])\n",
    "test_df['text'] = text_preprocess(test_df['text'])"
   ],
   "outputs": [],
   "metadata": {}
  },
  {
   "cell_type": "code",
   "execution_count": null,
   "source": [
    "train_df = pd.concat([pd.read_csv(os.path.join(data_dir, \"trial\", \"train\", lang+\".tsv\"),sep=\"\\t\"), pd.read_csv(os.path.join(data_dir, \"trial\", \"test\", lang+\".tsv\"),sep=\"\\t\")])\n",
    "train_df.rename(columns={\"is_variable\": \"label\"}, inplace=True)\n",
    "\n",
    "X_idx = train_df.index.to_numpy()\n",
    "y = train_df.label.to_numpy()\n",
    "\n",
    "kf = KFold(n_splits=n_splits)\n",
    "kf.get_n_splits(X_idx)\n",
    "\n",
    "scores = defaultdict(list)\n",
    "\n",
    "# Train model with cross-validation\n",
    "print(\"Training models with cross-validation...\")\n",
    "for i, (train_index, test_index) in enumerate(tqdm(kf.split(X_idx), total=n_splits)):\n",
    "    train_dataset = datasets.Dataset.from_pandas(train_df.iloc[train_index])\n",
    "    test_dataset = datasets.Dataset.from_pandas(train_df.iloc[test_index])\n",
    "\n",
    "    X_train = train_dataset['text']\n",
    "    y_train = train_dataset['label']\n",
    "\n",
    "    X_test = test_dataset['text']\n",
    "    y_test = test_dataset['label']\n",
    "\n",
    "    vectorizer = CountVectorizer()\n",
    "    X_train = vectorizer.fit_transform(X_train).toarray()\n",
    "    X_test = vectorizer.transform(X_test).toarray()\n",
    "\n",
    "    classifier = LogisticRegression()\n",
    "    classifier.fit(X_train, y_train)\n",
    "\n",
    "    y_pred = classifier.predict(X_test)\n",
    "\n",
    "    # Metrics\n",
    "    _accuracy_score = accuracy_score(y_test, y_pred)\n",
    "    scores[\"accuracy\"].append(_accuracy_score)\n",
    "    _precision_score = precision_score(y_test, y_pred, average=average)\n",
    "    scores[\"precision\"].append(_precision_score)\n",
    "    _recall_score = recall_score(y_test, y_pred, average=average)\n",
    "    scores[\"recall\"].append(_recall_score)\n",
    "    _f1_score = f1_score(y_test, y_pred, average=average)\n",
    "    scores[\"f1\"].append(_f1_score)"
   ],
   "outputs": [],
   "metadata": {}
  },
  {
   "cell_type": "code",
   "execution_count": null,
   "source": [
    "# import jsonlines\n",
    "\n",
    "# Compute mean and standard deviation\n",
    "print(\"***** Cross-Validation Results *****\")\n",
    "for k, v in scores.items():\n",
    "    skip = True\n",
    "    for m in [\"accuracy\", \"precision\", \"recall\", \"f1\"]:\n",
    "        if m in k:\n",
    "            skip = False\n",
    "    if skip:\n",
    "        continue\n",
    "    mean, std, pstd = (\n",
    "        statistics.mean(v),\n",
    "        statistics.stdev(v),\n",
    "        statistics.pstdev(v),\n",
    "    )\n",
    "    print(\n",
    "        k + \":\\n\",\n",
    "        \"Mean:\",\n",
    "        round(mean, 4),\n",
    "        \"\\tStd.:\",\n",
    "        round(std, 4),\n",
    "        \"\\tPStd:\",\n",
    "        round(pstd, 4),\n",
    "    )\n",
    "    \n",
    "    # results_file = \"./results.jsonl\"\n",
    "    # with jsonlines.open(results_file, \"a\") as writer:\n",
    "    #     writer.write({k: {\"Mean\": mean, \"Std\": std, \"PStd\": pstd}})"
   ],
   "outputs": [],
   "metadata": {}
  }
 ],
 "metadata": {
  "interpreter": {
   "hash": "d9c75a10141fb9765b6dd95572dd5e09c2b8655ce454a09c7fa750dc40f7865b"
  },
  "kernelspec": {
   "name": "python3",
   "display_name": "Python 3.8.10 64-bit ('venv': venv)"
  },
  "language_info": {
   "codemirror_mode": {
    "name": "ipython",
    "version": 3
   },
   "file_extension": ".py",
   "mimetype": "text/x-python",
   "name": "python",
   "nbconvert_exporter": "python",
   "pygments_lexer": "ipython3",
   "version": "3.8.10"
  },
  "orig_nbformat": 4
 },
 "nbformat": 4,
 "nbformat_minor": 2
}
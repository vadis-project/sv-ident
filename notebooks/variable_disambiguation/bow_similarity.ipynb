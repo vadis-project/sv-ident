{
 "cells": [
  {
   "cell_type": "code",
   "execution_count": null,
   "source": [
    "from nltk.corpus import stopwords\n",
    "from nltk.stem import WordNetLemmatizer\n",
    "import numpy as np\n",
    "import pandas as pd\n",
    "import re\n",
    "from sklearn.feature_extraction.text import CountVectorizer\n",
    "from sklearn.metrics.pairwise import cosine_similarity"
   ],
   "outputs": [],
   "metadata": {}
  },
  {
   "cell_type": "code",
   "execution_count": null,
   "source": [
    "nltk.download('stopwords')"
   ],
   "outputs": [],
   "metadata": {}
  },
  {
   "cell_type": "code",
   "execution_count": null,
   "source": [
    "# === Set your hyperparameters here ===\n",
    "\n",
    "# Choose the dataset to use from [\"en\", \"de\"]\n",
    "lang = \"en\"\n",
    "assert lang in [\"en\", \"de\"]\n",
    "\n",
    "k_values = [1, 3, 5, 10]\n",
    "\n",
    "# ================ End ================"
   ],
   "outputs": [],
   "metadata": {}
  },
  {
   "cell_type": "code",
   "execution_count": null,
   "source": [
    "# Load data\n",
    "\n",
    "data_path = f'../../data/trial/train/{lang}.tsv'\n",
    "variables_path = f'../../data/trial/vocabulary/{lang}.tsv'\n",
    "\n",
    "data_df = pd.read_csv(data_path, sep ='\\t')\n",
    "variable_df = pd.read_csv(variables_path, sep ='\\t')\n",
    "\n",
    "data_df = data_df[data_df['is_variable']==1].reset_index(drop=True)"
   ],
   "outputs": [],
   "metadata": {}
  },
  {
   "cell_type": "code",
   "execution_count": null,
   "source": [
    "data_df"
   ],
   "outputs": [],
   "metadata": {}
  },
  {
   "cell_type": "markdown",
   "source": [
    "Text Preprocessor"
   ],
   "metadata": {}
  },
  {
   "cell_type": "code",
   "execution_count": null,
   "source": [
    "def text_preprocess(ds: pd.Series) -> pd.Series:\n",
    "\n",
    "    for m in range(len(ds)):\n",
    "        \n",
    "        main_words = re.sub('[^a-zA-Z]', ' ', str(ds[m]))                                      # Retain only alphabets\n",
    "        main_words = (main_words.lower()).split()\n",
    "        main_words = [w for w in main_words if not w in set(stopwords.words('english'))]  # Remove stopwords\n",
    "        \n",
    "        lem = WordNetLemmatizer()\n",
    "        main_words = [lem.lemmatize(w) for w in main_words if len(w) > 1]                 # Group different forms of the same word\n",
    "        \n",
    "        main_words = ' '.join(main_words)\n",
    "        ds[m] = main_words\n",
    "\n",
    "    return ds"
   ],
   "outputs": [],
   "metadata": {}
  },
  {
   "cell_type": "markdown",
   "source": [
    "Create Bag of Words Matrices\n",
    "\n",
    "BoW vocabulary is created using the variable detection dataset. This vocabulary is used to create matrices for both datasets."
   ],
   "metadata": {}
  },
  {
   "cell_type": "code",
   "execution_count": null,
   "source": [
    "data_df['text'] = text_preprocess(data_df['text'])\n",
    "variable_df['v_question'] = text_preprocess(variable_df['v_question'])\n",
    "\n",
    "X = data_df['text'].values\n",
    "vX = variable_df['v_question'].values\n",
    "\n",
    "\n",
    "vectorizer = CountVectorizer()\n",
    "X = vectorizer.fit_transform(X).toarray()\n",
    "vX = vectorizer.transform(vX).toarray()"
   ],
   "outputs": [],
   "metadata": {}
  },
  {
   "cell_type": "markdown",
   "source": [
    "Top k Accuracy Computation Function"
   ],
   "metadata": {}
  },
  {
   "cell_type": "code",
   "execution_count": null,
   "source": [
    "def top_k_acc(k, scores, indices):\n",
    "    \n",
    "    top_k_indices = np.argsort(scores)[-k:]\n",
    "    p = set(indices)&set(top_k_indices)\n",
    "    acc = len(p)/len(indices)\n",
    "\n",
    "    return acc"
   ],
   "outputs": [],
   "metadata": {}
  },
  {
   "cell_type": "markdown",
   "source": [
    "Evaluation Function"
   ],
   "metadata": {}
  },
  {
   "cell_type": "code",
   "execution_count": null,
   "source": [
    "\n",
    "def evaluate():\n",
    "\n",
    "    # Create a list for indices of variable that are mentioned in the dataset.\n",
    "    variable_idx_list = []\n",
    "    variable_id_list = variable_df['v_id'].to_list()\n",
    "    for i,row in data_df.iterrows():\n",
    "        variables = row['variable'][1:-1].split(',')\n",
    "        pos_variables = ['v'+var.split('-')[0] for var in variables if 'yes' in var.lower()]\n",
    "        pos_variable_idx = [variable_id_list.index(var) for var in pos_variables]\n",
    "        variable_idx_list.append(pos_variable_idx)\n",
    "\n",
    "    for k in k_values:\n",
    "\n",
    "        i = 0\n",
    "        total_acc = 0\n",
    "        for x in X:\n",
    "            scores = []\n",
    "            for v in vX:\n",
    "                cs = cosine_similarity([x], [v])[0][0]\n",
    "                scores.append(cs)\n",
    "            total_acc += top_k_acc(k, scores, variable_idx_list[i])\n",
    "            i+=1\n",
    "\n",
    "        average_acc = total_acc/i\n",
    "        \n",
    "        print(f\"Average accuracy at {k}: {average_acc}\")\n",
    "        "
   ],
   "outputs": [],
   "metadata": {}
  },
  {
   "cell_type": "code",
   "execution_count": null,
   "source": [
    "evaluate()"
   ],
   "outputs": [],
   "metadata": {}
  }
 ],
 "metadata": {
  "interpreter": {
   "hash": "d9c75a10141fb9765b6dd95572dd5e09c2b8655ce454a09c7fa750dc40f7865b"
  },
  "kernelspec": {
   "name": "python3",
   "display_name": "Python 3.8.10 64-bit ('venv': venv)"
  },
  "language_info": {
   "codemirror_mode": {
    "name": "ipython",
    "version": 3
   },
   "file_extension": ".py",
   "mimetype": "text/x-python",
   "name": "python",
   "nbconvert_exporter": "python",
   "pygments_lexer": "ipython3",
   "version": "3.8.10"
  },
  "orig_nbformat": 4
 },
 "nbformat": 4,
 "nbformat_minor": 2
}
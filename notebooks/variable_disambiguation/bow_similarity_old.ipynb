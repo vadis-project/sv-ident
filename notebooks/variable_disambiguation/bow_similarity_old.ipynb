{
 "cells": [
  {
   "cell_type": "code",
   "execution_count": 3,
   "source": [
    "import nltk\n",
    "from nltk.corpus import stopwords\n",
    "from nltk.stem import WordNetLemmatizer\n",
    "import numpy as np\n",
    "import pandas as pd\n",
    "import re\n",
    "from sklearn.feature_extraction.text import CountVectorizer\n",
    "from sklearn.metrics.pairwise import cosine_similarity"
   ],
   "outputs": [],
   "metadata": {}
  },
  {
   "cell_type": "code",
   "execution_count": 4,
   "source": [
    "nltk.download('stopwords')"
   ],
   "outputs": [
    {
     "output_type": "stream",
     "name": "stderr",
     "text": [
      "[nltk_data] Downloading package stopwords to /home/tony/nltk_data...\n",
      "[nltk_data]   Package stopwords is already up-to-date!\n"
     ]
    },
    {
     "output_type": "execute_result",
     "data": {
      "text/plain": [
       "True"
      ]
     },
     "metadata": {},
     "execution_count": 4
    }
   ],
   "metadata": {}
  },
  {
   "cell_type": "code",
   "execution_count": 5,
   "source": [
    "# === Set your hyperparameters here ===\n",
    "\n",
    "# Choose the dataset to use from [\"en\", \"de\"]\n",
    "lang = \"en\"\n",
    "assert lang in [\"en\", \"de\"]\n",
    "\n",
    "k_values = [1, 3, 5, 10]\n",
    "\n",
    "# ================ End ================"
   ],
   "outputs": [],
   "metadata": {}
  },
  {
   "cell_type": "code",
   "execution_count": 6,
   "source": [
    "# Load data\n",
    "\n",
    "data_path = f'../../data/trial/train/{lang}.tsv'\n",
    "variables_path = f'../../data/trial/vocabulary/{lang}.tsv'\n",
    "\n",
    "data_df = pd.read_csv(data_path, sep ='\\t')\n",
    "variable_df = pd.read_csv(variables_path, sep ='\\t')\n",
    "\n",
    "data_df = data_df[data_df['is_variable']==1].reset_index(drop=True)"
   ],
   "outputs": [],
   "metadata": {}
  },
  {
   "cell_type": "code",
   "execution_count": 7,
   "source": [
    "data_df"
   ],
   "outputs": [
    {
     "output_type": "execute_result",
     "data": {
      "text/html": [
       "<div>\n",
       "<style scoped>\n",
       "    .dataframe tbody tr th:only-of-type {\n",
       "        vertical-align: middle;\n",
       "    }\n",
       "\n",
       "    .dataframe tbody tr th {\n",
       "        vertical-align: top;\n",
       "    }\n",
       "\n",
       "    .dataframe thead th {\n",
       "        text-align: right;\n",
       "    }\n",
       "</style>\n",
       "<table border=\"1\" class=\"dataframe\">\n",
       "  <thead>\n",
       "    <tr style=\"text-align: right;\">\n",
       "      <th></th>\n",
       "      <th>doc_id</th>\n",
       "      <th>context_id</th>\n",
       "      <th>text</th>\n",
       "      <th>is_variable</th>\n",
       "      <th>variable</th>\n",
       "      <th>uuid</th>\n",
       "    </tr>\n",
       "  </thead>\n",
       "  <tbody>\n",
       "    <tr>\n",
       "      <th>0</th>\n",
       "      <td>QUVGTX</td>\n",
       "      <td>81</td>\n",
       "      <td>3. Concerning ethnic German repatriates as nei...</td>\n",
       "      <td>1</td>\n",
       "      <td>293-Yes,288-No,295-No</td>\n",
       "      <td>da01825f-21eb-4e69-8a4f-5f6966b55d1c</td>\n",
       "    </tr>\n",
       "    <tr>\n",
       "      <th>1</th>\n",
       "      <td>HVIJGN</td>\n",
       "      <td>63</td>\n",
       "      <td>In the ALLBUS survey, individuals are asked w...</td>\n",
       "      <td>1</td>\n",
       "      <td>25-Yes,27-No,30-No</td>\n",
       "      <td>f9df9c8f-435c-4d75-9724-f178df7eb6fe</td>\n",
       "    </tr>\n",
       "    <tr>\n",
       "      <th>2</th>\n",
       "      <td>EMNGSA</td>\n",
       "      <td>45</td>\n",
       "      <td>“Foreigners living in Germany should choose to...</td>\n",
       "      <td>1</td>\n",
       "      <td>273-Yes,637-No,272-No,329-No</td>\n",
       "      <td>55765f55-750e-4ef7-890b-58d6402dfe3f</td>\n",
       "    </tr>\n",
       "    <tr>\n",
       "      <th>3</th>\n",
       "      <td>EMNGSA</td>\n",
       "      <td>45</td>\n",
       "      <td>People from non-EU countries, e.g. Turkey comi...</td>\n",
       "      <td>1</td>\n",
       "      <td>251-Yes,248-No,249-No,250-No</td>\n",
       "      <td>fd3ebf6a-d8eb-4b7b-8420-8fdb8a01c280</td>\n",
       "    </tr>\n",
       "    <tr>\n",
       "      <th>4</th>\n",
       "      <td>NBG22A</td>\n",
       "      <td>72</td>\n",
       "      <td>The two main dependent variables are being bo...</td>\n",
       "      <td>1</td>\n",
       "      <td>1320-Yes,1330-Yes,1328-No,1329-No</td>\n",
       "      <td>2866c724-a37f-456b-80e5-f63ffbb1b01c</td>\n",
       "    </tr>\n",
       "    <tr>\n",
       "      <th>...</th>\n",
       "      <td>...</td>\n",
       "      <td>...</td>\n",
       "      <td>...</td>\n",
       "      <td>...</td>\n",
       "      <td>...</td>\n",
       "      <td>...</td>\n",
       "    </tr>\n",
       "    <tr>\n",
       "      <th>97</th>\n",
       "      <td>EMNGSA</td>\n",
       "      <td>44</td>\n",
       "      <td>“Should abortion be permitted . . . if the wom...</td>\n",
       "      <td>1</td>\n",
       "      <td>380-Yes,382-Yes,384-Yes</td>\n",
       "      <td>0010cb68-a98f-45d1-bd27-ba68a34d8cad</td>\n",
       "    </tr>\n",
       "    <tr>\n",
       "      <th>98</th>\n",
       "      <td>E64WCO=BGJUWD</td>\n",
       "      <td>38</td>\n",
       "      <td>With respect to the contact items, it is only ...</td>\n",
       "      <td>1</td>\n",
       "      <td>277-Yes,275-No,276-No</td>\n",
       "      <td>00f0868f-17aa-402a-b4b2-4ce930683fca</td>\n",
       "    </tr>\n",
       "    <tr>\n",
       "      <th>99</th>\n",
       "      <td>TEEEJW</td>\n",
       "      <td>83</td>\n",
       "      <td>The standard trust question (”Generally speaki...</td>\n",
       "      <td>1</td>\n",
       "      <td>688-Yes,689-No,229-No</td>\n",
       "      <td>bced0e64-661b-4a24-b17b-32c43244bd3e</td>\n",
       "    </tr>\n",
       "    <tr>\n",
       "      <th>100</th>\n",
       "      <td>EMNGSA</td>\n",
       "      <td>45</td>\n",
       "      <td>“When jobs get scarce, the foreigners living i...</td>\n",
       "      <td>1</td>\n",
       "      <td>271-Yes,257-No</td>\n",
       "      <td>2a242751-1d08-4d7d-834b-fe6732dca09a</td>\n",
       "    </tr>\n",
       "    <tr>\n",
       "      <th>101</th>\n",
       "      <td>TEEEJW</td>\n",
       "      <td>83</td>\n",
       "      <td>I therefore use the following question: ”Die m...</td>\n",
       "      <td>1</td>\n",
       "      <td>687-Yes,685-No,689-No</td>\n",
       "      <td>74d5e135-ed85-45c4-b04c-4b8bc57f98e0</td>\n",
       "    </tr>\n",
       "  </tbody>\n",
       "</table>\n",
       "<p>102 rows × 6 columns</p>\n",
       "</div>"
      ],
      "text/plain": [
       "            doc_id  context_id  \\\n",
       "0           QUVGTX          81   \n",
       "1           HVIJGN          63   \n",
       "2           EMNGSA          45   \n",
       "3           EMNGSA          45   \n",
       "4           NBG22A          72   \n",
       "..             ...         ...   \n",
       "97          EMNGSA          44   \n",
       "98   E64WCO=BGJUWD          38   \n",
       "99          TEEEJW          83   \n",
       "100         EMNGSA          45   \n",
       "101         TEEEJW          83   \n",
       "\n",
       "                                                  text  is_variable  \\\n",
       "0    3. Concerning ethnic German repatriates as nei...            1   \n",
       "1     In the ALLBUS survey, individuals are asked w...            1   \n",
       "2    “Foreigners living in Germany should choose to...            1   \n",
       "3    People from non-EU countries, e.g. Turkey comi...            1   \n",
       "4     The two main dependent variables are being bo...            1   \n",
       "..                                                 ...          ...   \n",
       "97   “Should abortion be permitted . . . if the wom...            1   \n",
       "98   With respect to the contact items, it is only ...            1   \n",
       "99   The standard trust question (”Generally speaki...            1   \n",
       "100  “When jobs get scarce, the foreigners living i...            1   \n",
       "101  I therefore use the following question: ”Die m...            1   \n",
       "\n",
       "                              variable                                  uuid  \n",
       "0                293-Yes,288-No,295-No  da01825f-21eb-4e69-8a4f-5f6966b55d1c  \n",
       "1                   25-Yes,27-No,30-No  f9df9c8f-435c-4d75-9724-f178df7eb6fe  \n",
       "2         273-Yes,637-No,272-No,329-No  55765f55-750e-4ef7-890b-58d6402dfe3f  \n",
       "3         251-Yes,248-No,249-No,250-No  fd3ebf6a-d8eb-4b7b-8420-8fdb8a01c280  \n",
       "4    1320-Yes,1330-Yes,1328-No,1329-No  2866c724-a37f-456b-80e5-f63ffbb1b01c  \n",
       "..                                 ...                                   ...  \n",
       "97             380-Yes,382-Yes,384-Yes  0010cb68-a98f-45d1-bd27-ba68a34d8cad  \n",
       "98               277-Yes,275-No,276-No  00f0868f-17aa-402a-b4b2-4ce930683fca  \n",
       "99               688-Yes,689-No,229-No  bced0e64-661b-4a24-b17b-32c43244bd3e  \n",
       "100                     271-Yes,257-No  2a242751-1d08-4d7d-834b-fe6732dca09a  \n",
       "101              687-Yes,685-No,689-No  74d5e135-ed85-45c4-b04c-4b8bc57f98e0  \n",
       "\n",
       "[102 rows x 6 columns]"
      ]
     },
     "metadata": {},
     "execution_count": 7
    }
   ],
   "metadata": {}
  },
  {
   "cell_type": "markdown",
   "source": [
    "Text Preprocessor"
   ],
   "metadata": {}
  },
  {
   "cell_type": "code",
   "execution_count": 8,
   "source": [
    "def text_preprocess(ds: pd.Series) -> pd.Series:\n",
    "\n",
    "    for m in range(len(ds)):\n",
    "        \n",
    "        main_words = re.sub('[^a-zA-Z]', ' ', str(ds[m]))                                      # Retain only alphabets\n",
    "        main_words = (main_words.lower()).split()\n",
    "        main_words = [w for w in main_words if not w in set(stopwords.words('english'))]  # Remove stopwords\n",
    "        \n",
    "        lem = WordNetLemmatizer()\n",
    "        main_words = [lem.lemmatize(w) for w in main_words if len(w) > 1]                 # Group different forms of the same word\n",
    "        \n",
    "        main_words = ' '.join(main_words)\n",
    "        ds[m] = main_words\n",
    "\n",
    "    return ds"
   ],
   "outputs": [],
   "metadata": {}
  },
  {
   "cell_type": "markdown",
   "source": [
    "Create Bag of Words Matrices\n",
    "\n",
    "BoW vocabulary is created using the variable detection dataset. This vocabulary is used to create matrices for both datasets."
   ],
   "metadata": {}
  },
  {
   "cell_type": "code",
   "execution_count": 10,
   "source": [
    "data_df['text'] = text_preprocess(data_df['text'])\n",
    "variable_df['question'] = text_preprocess(variable_df['question'])\n",
    "\n",
    "X = data_df['text'].values\n",
    "vX = variable_df['question'].values\n",
    "\n",
    "\n",
    "vectorizer = CountVectorizer()\n",
    "X = vectorizer.fit_transform(X).toarray()\n",
    "vX = vectorizer.transform(vX).toarray()"
   ],
   "outputs": [
    {
     "output_type": "stream",
     "name": "stderr",
     "text": [
      "/tmp/ipykernel_493838/3273556785.py:13: SettingWithCopyWarning: \n",
      "A value is trying to be set on a copy of a slice from a DataFrame\n",
      "\n",
      "See the caveats in the documentation: https://pandas.pydata.org/pandas-docs/stable/user_guide/indexing.html#returning-a-view-versus-a-copy\n",
      "  ds[m] = main_words\n"
     ]
    }
   ],
   "metadata": {}
  },
  {
   "cell_type": "markdown",
   "source": [
    "Top k Accuracy Computation Function"
   ],
   "metadata": {}
  },
  {
   "cell_type": "code",
   "execution_count": 11,
   "source": [
    "def top_k_acc(k, scores, indices):\n",
    "    \n",
    "    top_k_indices = np.argsort(scores)[-k:]\n",
    "    p = set(indices)&set(top_k_indices)\n",
    "    acc = len(p)/len(indices)\n",
    "\n",
    "    return acc"
   ],
   "outputs": [],
   "metadata": {}
  },
  {
   "cell_type": "markdown",
   "source": [
    "Evaluation Function"
   ],
   "metadata": {}
  },
  {
   "cell_type": "code",
   "execution_count": 16,
   "source": [
    "\n",
    "def evaluate():\n",
    "\n",
    "    # Create a list for indices of variable that are mentioned in the dataset.\n",
    "    variable_idx_list = []\n",
    "    variable_id_list = variable_df['id'].to_list()\n",
    "    for i,row in data_df.iterrows():\n",
    "        variables = row['variable'].split(',')\n",
    "        pos_variables = ['v'+var.split('-')[0] for var in variables if 'yes' in var.lower()]\n",
    "        pos_variable_idx = [variable_id_list.index(var) for var in pos_variables]\n",
    "        variable_idx_list.append(pos_variable_idx)\n",
    "\n",
    "    for k in k_values:\n",
    "\n",
    "        i = 0\n",
    "        total_acc = 0\n",
    "        for x in X:\n",
    "            scores = []\n",
    "            for v in vX:\n",
    "                cs = cosine_similarity([x], [v])[0][0]\n",
    "                scores.append(cs)\n",
    "            total_acc += top_k_acc(k, scores, variable_idx_list[i])\n",
    "            i+=1\n",
    "\n",
    "        average_acc = total_acc/i\n",
    "        \n",
    "        print(f\"Average accuracy at {k}: {average_acc}\")\n",
    "        "
   ],
   "outputs": [],
   "metadata": {}
  },
  {
   "cell_type": "code",
   "execution_count": 17,
   "source": [
    "evaluate()"
   ],
   "outputs": [
    {
     "output_type": "stream",
     "name": "stdout",
     "text": [
      "Average accuracy at 1: 0.1854575163398693\n",
      "Average accuracy at 3: 0.29003267973856206\n",
      "Average accuracy at 5: 0.35049019607843135\n",
      "Average accuracy at 10: 0.4570261437908496\n"
     ]
    }
   ],
   "metadata": {}
  }
 ],
 "metadata": {
  "interpreter": {
   "hash": "d9c75a10141fb9765b6dd95572dd5e09c2b8655ce454a09c7fa750dc40f7865b"
  },
  "kernelspec": {
   "name": "python3",
   "display_name": "Python 3.8.10 64-bit ('venv': venv)"
  },
  "language_info": {
   "codemirror_mode": {
    "name": "ipython",
    "version": 3
   },
   "file_extension": ".py",
   "mimetype": "text/x-python",
   "name": "python",
   "nbconvert_exporter": "python",
   "pygments_lexer": "ipython3",
   "version": "3.8.10"
  },
  "orig_nbformat": 4
 },
 "nbformat": 4,
 "nbformat_minor": 2
}